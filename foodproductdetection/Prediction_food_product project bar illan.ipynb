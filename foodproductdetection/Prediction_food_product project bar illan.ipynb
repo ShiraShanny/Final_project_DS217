version https://git-lfs.github.com/spec/v1
oid sha256:cda706f9a4ffb15a770b1773d9935bdef1a94c8243afde630734eb4f340cd84e
size 20404717
